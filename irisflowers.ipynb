{
 "cells": [
  {
   "cell_type": "code",
   "execution_count": 1,
   "metadata": {
    "_cell_guid": "b1076dfc-b9ad-4769-8c92-a6c4dae69d19",
    "_uuid": "8f2839f25d086af736a60e9eeb907d3b93b6e0e5"
   },
   "outputs": [
    {
     "name": "stdout",
     "output_type": "stream",
     "text": [
      "/kaggle/input/iris-flower-dataset/IRIS.csv\n"
     ]
    }
   ],
   "source": [
    "import os\n",
    "for dirname, _, filenames in os.walk('/kaggle/input'):\n",
    "    for filename in filenames:\n",
    "        print(os.path.join(dirname, filename))"
   ]
  },
  {
   "cell_type": "code",
   "execution_count": 2,
   "metadata": {
    "_cell_guid": "79c7e3d0-c299-4dcb-8224-4455121ee9b0",
    "_uuid": "d629ff2d2480ee46fbb7e2d37f6b5fab8052498a"
   },
   "outputs": [],
   "source": [
    "# import libraries\n",
    "import numpy as np\n",
    "import pandas as pd\n",
    "import matplotlib.pyplot as plt\n",
    "from pandas import read_csv\n",
    "from pandas.plotting import scatter_matrix\n",
    "from sklearn.preprocessing import MinMaxScaler\n",
    "from sklearn.metrics import classification_report\n",
    "from sklearn.metrics import confusion_matrix\n",
    "from sklearn.metrics import accuracy_score\n",
    "from sklearn.discriminant_analysis import LinearDiscriminantAnalysis\n",
    "from sklearn.model_selection import train_test_split\n",
    "from sklearn.preprocessing import StandardScaler"
   ]
  },
  {
   "cell_type": "code",
   "execution_count": 3,
   "metadata": {},
   "outputs": [
    {
     "name": "stdout",
     "output_type": "stream",
     "text": [
      "    sepal_length  sepal_width  petal_length  petal_width          species\n",
      "0            5.1          3.5           1.4          0.2      Iris-setosa\n",
      "1            4.9          3.0           1.4          0.2      Iris-setosa\n",
      "2            4.7          3.2           1.3          0.2      Iris-setosa\n",
      "3            4.6          3.1           1.5          0.2      Iris-setosa\n",
      "4            5.0          3.6           1.4          0.2      Iris-setosa\n",
      "5            5.4          3.9           1.7          0.4      Iris-setosa\n",
      "6            4.6          3.4           1.4          0.3      Iris-setosa\n",
      "7            5.0          3.4           1.5          0.2      Iris-setosa\n",
      "8            4.4          2.9           1.4          0.2      Iris-setosa\n",
      "9            4.9          3.1           1.5          0.1      Iris-setosa\n",
      "10           5.4          3.7           1.5          0.2      Iris-setosa\n",
      "11           4.8          3.4           1.6          0.2      Iris-setosa\n",
      "12           4.8          3.0           1.4          0.1      Iris-setosa\n",
      "13           4.3          3.0           1.1          0.1      Iris-setosa\n",
      "14           5.8          4.0           1.2          0.2      Iris-setosa\n",
      "15           5.7          4.4           1.5          0.4      Iris-setosa\n",
      "16           5.4          3.9           1.3          0.4      Iris-setosa\n",
      "17           5.1          3.5           1.4          0.3      Iris-setosa\n",
      "18           5.7          3.8           1.7          0.3      Iris-setosa\n",
      "19           5.1          3.8           1.5          0.3      Iris-setosa\n",
      "20           5.4          3.4           1.7          0.2      Iris-setosa\n",
      "21           5.1          3.7           1.5          0.4      Iris-setosa\n",
      "22           4.6          3.6           1.0          0.2      Iris-setosa\n",
      "23           5.1          3.3           1.7          0.5      Iris-setosa\n",
      "24           4.8          3.4           1.9          0.2      Iris-setosa\n",
      "25           5.0          3.0           1.6          0.2      Iris-setosa\n",
      "26           5.0          3.4           1.6          0.4      Iris-setosa\n",
      "27           5.2          3.5           1.5          0.2      Iris-setosa\n",
      "28           5.2          3.4           1.4          0.2      Iris-setosa\n",
      "29           4.7          3.2           1.6          0.2      Iris-setosa\n",
      "30           4.8          3.1           1.6          0.2      Iris-setosa\n",
      "31           5.4          3.4           1.5          0.4      Iris-setosa\n",
      "32           5.2          4.1           1.5          0.1      Iris-setosa\n",
      "33           5.5          4.2           1.4          0.2      Iris-setosa\n",
      "34           4.9          3.1           1.5          0.1      Iris-setosa\n",
      "35           5.0          3.2           1.2          0.2      Iris-setosa\n",
      "36           5.5          3.5           1.3          0.2      Iris-setosa\n",
      "37           4.9          3.1           1.5          0.1      Iris-setosa\n",
      "38           4.4          3.0           1.3          0.2      Iris-setosa\n",
      "39           5.1          3.4           1.5          0.2      Iris-setosa\n",
      "40           5.0          3.5           1.3          0.3      Iris-setosa\n",
      "41           4.5          2.3           1.3          0.3      Iris-setosa\n",
      "42           4.4          3.2           1.3          0.2      Iris-setosa\n",
      "43           5.0          3.5           1.6          0.6      Iris-setosa\n",
      "44           5.1          3.8           1.9          0.4      Iris-setosa\n",
      "45           4.8          3.0           1.4          0.3      Iris-setosa\n",
      "46           5.1          3.8           1.6          0.2      Iris-setosa\n",
      "47           4.6          3.2           1.4          0.2      Iris-setosa\n",
      "48           5.3          3.7           1.5          0.2      Iris-setosa\n",
      "49           5.0          3.3           1.4          0.2      Iris-setosa\n",
      "50           7.0          3.2           4.7          1.4  Iris-versicolor\n",
      "51           6.4          3.2           4.5          1.5  Iris-versicolor\n",
      "52           6.9          3.1           4.9          1.5  Iris-versicolor\n",
      "53           5.5          2.3           4.0          1.3  Iris-versicolor\n",
      "54           6.5          2.8           4.6          1.5  Iris-versicolor\n",
      "55           5.7          2.8           4.5          1.3  Iris-versicolor\n",
      "56           6.3          3.3           4.7          1.6  Iris-versicolor\n",
      "57           4.9          2.4           3.3          1.0  Iris-versicolor\n",
      "58           6.6          2.9           4.6          1.3  Iris-versicolor\n",
      "59           5.2          2.7           3.9          1.4  Iris-versicolor\n"
     ]
    }
   ],
   "source": [
    "# load dataset\n",
    "filename = \"/kaggle/input/iris-flower-dataset/IRIS.csv\"\n",
    "data = read_csv(filename)\n",
    "print(data.head(60))"
   ]
  },
  {
   "cell_type": "code",
   "execution_count": 4,
   "metadata": {},
   "outputs": [
    {
     "data": {
      "text/plain": [
       "(150, 5)"
      ]
     },
     "execution_count": 4,
     "metadata": {},
     "output_type": "execute_result"
    }
   ],
   "source": [
    "# shape of data\n",
    "data.shape"
   ]
  },
  {
   "cell_type": "code",
   "execution_count": 5,
   "metadata": {},
   "outputs": [
    {
     "data": {
      "text/plain": [
       "sepal_length    float64\n",
       "sepal_width     float64\n",
       "petal_length    float64\n",
       "petal_width     float64\n",
       "species          object\n",
       "dtype: object"
      ]
     },
     "execution_count": 5,
     "metadata": {},
     "output_type": "execute_result"
    }
   ],
   "source": [
    "#data types of attributes\n",
    "data.dtypes"
   ]
  },
  {
   "cell_type": "code",
   "execution_count": 6,
   "metadata": {},
   "outputs": [
    {
     "data": {
      "text/plain": [
       "species\n",
       "Iris-setosa        50\n",
       "Iris-versicolor    50\n",
       "Iris-virginica     50\n",
       "dtype: int64"
      ]
     },
     "execution_count": 6,
     "metadata": {},
     "output_type": "execute_result"
    }
   ],
   "source": [
    "#number of observations for each class \n",
    "data.groupby('species').size()"
   ]
  },
  {
   "cell_type": "code",
   "execution_count": 7,
   "metadata": {},
   "outputs": [
    {
     "data": {
      "text/html": [
       "<div>\n",
       "<style scoped>\n",
       "    .dataframe tbody tr th:only-of-type {\n",
       "        vertical-align: middle;\n",
       "    }\n",
       "\n",
       "    .dataframe tbody tr th {\n",
       "        vertical-align: top;\n",
       "    }\n",
       "\n",
       "    .dataframe thead th {\n",
       "        text-align: right;\n",
       "    }\n",
       "</style>\n",
       "<table border=\"1\" class=\"dataframe\">\n",
       "  <thead>\n",
       "    <tr style=\"text-align: right;\">\n",
       "      <th></th>\n",
       "      <th>sepal_length</th>\n",
       "      <th>sepal_width</th>\n",
       "      <th>petal_length</th>\n",
       "      <th>petal_width</th>\n",
       "    </tr>\n",
       "  </thead>\n",
       "  <tbody>\n",
       "    <tr>\n",
       "      <th>count</th>\n",
       "      <td>150.000000</td>\n",
       "      <td>150.000000</td>\n",
       "      <td>150.000000</td>\n",
       "      <td>150.000000</td>\n",
       "    </tr>\n",
       "    <tr>\n",
       "      <th>mean</th>\n",
       "      <td>5.843333</td>\n",
       "      <td>3.054000</td>\n",
       "      <td>3.758667</td>\n",
       "      <td>1.198667</td>\n",
       "    </tr>\n",
       "    <tr>\n",
       "      <th>std</th>\n",
       "      <td>0.828066</td>\n",
       "      <td>0.433594</td>\n",
       "      <td>1.764420</td>\n",
       "      <td>0.763161</td>\n",
       "    </tr>\n",
       "    <tr>\n",
       "      <th>min</th>\n",
       "      <td>4.300000</td>\n",
       "      <td>2.000000</td>\n",
       "      <td>1.000000</td>\n",
       "      <td>0.100000</td>\n",
       "    </tr>\n",
       "    <tr>\n",
       "      <th>25%</th>\n",
       "      <td>5.100000</td>\n",
       "      <td>2.800000</td>\n",
       "      <td>1.600000</td>\n",
       "      <td>0.300000</td>\n",
       "    </tr>\n",
       "    <tr>\n",
       "      <th>50%</th>\n",
       "      <td>5.800000</td>\n",
       "      <td>3.000000</td>\n",
       "      <td>4.350000</td>\n",
       "      <td>1.300000</td>\n",
       "    </tr>\n",
       "    <tr>\n",
       "      <th>75%</th>\n",
       "      <td>6.400000</td>\n",
       "      <td>3.300000</td>\n",
       "      <td>5.100000</td>\n",
       "      <td>1.800000</td>\n",
       "    </tr>\n",
       "    <tr>\n",
       "      <th>max</th>\n",
       "      <td>7.900000</td>\n",
       "      <td>4.400000</td>\n",
       "      <td>6.900000</td>\n",
       "      <td>2.500000</td>\n",
       "    </tr>\n",
       "  </tbody>\n",
       "</table>\n",
       "</div>"
      ],
      "text/plain": [
       "       sepal_length  sepal_width  petal_length  petal_width\n",
       "count    150.000000   150.000000    150.000000   150.000000\n",
       "mean       5.843333     3.054000      3.758667     1.198667\n",
       "std        0.828066     0.433594      1.764420     0.763161\n",
       "min        4.300000     2.000000      1.000000     0.100000\n",
       "25%        5.100000     2.800000      1.600000     0.300000\n",
       "50%        5.800000     3.000000      4.350000     1.300000\n",
       "75%        6.400000     3.300000      5.100000     1.800000\n",
       "max        7.900000     4.400000      6.900000     2.500000"
      ]
     },
     "execution_count": 7,
     "metadata": {},
     "output_type": "execute_result"
    }
   ],
   "source": [
    "#statistical properties of attributes\n",
    "data.describe()"
   ]
  },
  {
   "cell_type": "code",
   "execution_count": 8,
   "metadata": {},
   "outputs": [
    {
     "name": "stdout",
     "output_type": "stream",
     "text": [
      "              sepal_length  sepal_width  petal_length  petal_width\n",
      "sepal_length      1.000000    -0.109369      0.871754     0.817954\n",
      "sepal_width      -0.109369     1.000000     -0.420516    -0.356544\n",
      "petal_length      0.871754    -0.420516      1.000000     0.962757\n",
      "petal_width       0.817954    -0.356544      0.962757     1.000000\n"
     ]
    }
   ],
   "source": [
    "#Correlations between each attribute\n",
    "print(data.corr(method='pearson'))"
   ]
  },
  {
   "cell_type": "code",
   "execution_count": 9,
   "metadata": {},
   "outputs": [
    {
     "data": {
      "text/plain": [
       "sepal_length    0.314911\n",
       "sepal_width     0.334053\n",
       "petal_length   -0.274464\n",
       "petal_width    -0.104997\n",
       "dtype: float64"
      ]
     },
     "execution_count": 9,
     "metadata": {},
     "output_type": "execute_result"
    }
   ],
   "source": [
    "#skweness of each attribute\n",
    "data.skew()"
   ]
  },
  {
   "cell_type": "code",
   "execution_count": 10,
   "metadata": {},
   "outputs": [
    {
     "data": {
      "image/png": "[encoded data removed]",
      "text/plain": [
       "<Figure size 432x288 with 1 Axes>"
      ]
     },
     "metadata": {
      "needs_background": "light"
     },
     "output_type": "display_data"
    }
   ],
   "source": [
    "#data visualization using density plots\n",
    "data.plot(kind='density', sharex=False)\n",
    "plt.show()"
   ]
  },
  {
   "cell_type": "code",
   "execution_count": 11,
   "metadata": {},
   "outputs": [
    {
     "data": {
      "image/png": "[encoded data removed]",
      "text/plain": [
       "<Figure size 432x288 with 1 Axes>"
      ]
     },
     "metadata": {
      "needs_background": "light"
     },
     "output_type": "display_data"
    }
   ],
   "source": [
    "#data visualization using box and whisker plots\n",
    "data.plot(kind='box', sharex=False, sharey=False)\n",
    "plt.show()"
   ]
  },
  {
   "cell_type": "code",
   "execution_count": 12,
   "metadata": {},
   "outputs": [
    {
     "data": {
      "image/png": "[encoded data removed]",
      "text/plain": [
       "<Figure size 432x288 with 16 Axes>"
      ]
     },
     "metadata": {
      "needs_background": "light"
     },
     "output_type": "display_data"
    }
   ],
   "source": [
    "#Scactter Matrix \n",
    "scatter_matrix(data)\n",
    "plt.show()"
   ]
  },
  {
   "cell_type": "code",
   "execution_count": 13,
   "metadata": {},
   "outputs": [],
   "source": [
    "# Split data in inputs and labels\n",
    "array = data.values\n",
    "inputs = array[:, 0:-1]\n",
    "labels = array[:, -1]"
   ]
  },
  {
   "cell_type": "code",
   "execution_count": 14,
   "metadata": {},
   "outputs": [
    {
     "name": "stdout",
     "output_type": "stream",
     "text": [
      "[ 10.81782088   3.59449902 116.16984746  67.24482759]\n"
     ]
    }
   ],
   "source": [
    "# Scores of features\n",
    "from sklearn.feature_selection import SelectKBest\n",
    "from sklearn.feature_selection import chi2\n",
    "test = SelectKBest(score_func=chi2, k=3)\n",
    "fit = test.fit(inputs, labels)\n",
    "print(fit.scores_)"
   ]
  },
  {
   "cell_type": "code",
   "execution_count": 15,
   "metadata": {},
   "outputs": [
    {
     "name": "stdout",
     "output_type": "stream",
     "text": [
      "[[5.1 1.4 0.2]\n",
      " [4.9 1.4 0.2]\n",
      " [4.7 1.3 0.2]\n",
      " [4.6 1.5 0.2]\n",
      " [5.0 1.4 0.2]\n",
      " [5.4 1.7 0.4]\n",
      " [4.6 1.4 0.3]\n",
      " [5.0 1.5 0.2]\n",
      " [4.4 1.4 0.2]\n",
      " [4.9 1.5 0.1]\n",
      " [5.4 1.5 0.2]\n",
      " [4.8 1.6 0.2]\n",
      " [4.8 1.4 0.1]\n",
      " [4.3 1.1 0.1]\n",
      " [5.8 1.2 0.2]\n",
      " [5.7 1.5 0.4]\n",
      " [5.4 1.3 0.4]\n",
      " [5.1 1.4 0.3]\n",
      " [5.7 1.7 0.3]\n",
      " [5.1 1.5 0.3]\n",
      " [5.4 1.7 0.2]\n",
      " [5.1 1.5 0.4]\n",
      " [4.6 1.0 0.2]\n",
      " [5.1 1.7 0.5]\n",
      " [4.8 1.9 0.2]\n",
      " [5.0 1.6 0.2]\n",
      " [5.0 1.6 0.4]\n",
      " [5.2 1.5 0.2]\n",
      " [5.2 1.4 0.2]\n",
      " [4.7 1.6 0.2]\n",
      " [4.8 1.6 0.2]\n",
      " [5.4 1.5 0.4]\n",
      " [5.2 1.5 0.1]\n",
      " [5.5 1.4 0.2]\n",
      " [4.9 1.5 0.1]\n",
      " [5.0 1.2 0.2]\n",
      " [5.5 1.3 0.2]\n",
      " [4.9 1.5 0.1]\n",
      " [4.4 1.3 0.2]\n",
      " [5.1 1.5 0.2]\n",
      " [5.0 1.3 0.3]\n",
      " [4.5 1.3 0.3]\n",
      " [4.4 1.3 0.2]\n",
      " [5.0 1.6 0.6]\n",
      " [5.1 1.9 0.4]\n",
      " [4.8 1.4 0.3]\n",
      " [5.1 1.6 0.2]\n",
      " [4.6 1.4 0.2]\n",
      " [5.3 1.5 0.2]\n",
      " [5.0 1.4 0.2]\n",
      " [7.0 4.7 1.4]\n",
      " [6.4 4.5 1.5]\n",
      " [6.9 4.9 1.5]\n",
      " [5.5 4.0 1.3]\n",
      " [6.5 4.6 1.5]\n",
      " [5.7 4.5 1.3]\n",
      " [6.3 4.7 1.6]\n",
      " [4.9 3.3 1.0]\n",
      " [6.6 4.6 1.3]\n",
      " [5.2 3.9 1.4]\n",
      " [5.0 3.5 1.0]\n",
      " [5.9 4.2 1.5]\n",
      " [6.0 4.0 1.0]\n",
      " [6.1 4.7 1.4]\n",
      " [5.6 3.6 1.3]\n",
      " [6.7 4.4 1.4]\n",
      " [5.6 4.5 1.5]\n",
      " [5.8 4.1 1.0]\n",
      " [6.2 4.5 1.5]\n",
      " [5.6 3.9 1.1]\n",
      " [5.9 4.8 1.8]\n",
      " [6.1 4.0 1.3]\n",
      " [6.3 4.9 1.5]\n",
      " [6.1 4.7 1.2]\n",
      " [6.4 4.3 1.3]\n",
      " [6.6 4.4 1.4]\n",
      " [6.8 4.8 1.4]\n",
      " [6.7 5.0 1.7]\n",
      " [6.0 4.5 1.5]\n",
      " [5.7 3.5 1.0]\n",
      " [5.5 3.8 1.1]\n",
      " [5.5 3.7 1.0]\n",
      " [5.8 3.9 1.2]\n",
      " [6.0 5.1 1.6]\n",
      " [5.4 4.5 1.5]\n",
      " [6.0 4.5 1.6]\n",
      " [6.7 4.7 1.5]\n",
      " [6.3 4.4 1.3]\n",
      " [5.6 4.1 1.3]\n",
      " [5.5 4.0 1.3]\n",
      " [5.5 4.4 1.2]\n",
      " [6.1 4.6 1.4]\n",
      " [5.8 4.0 1.2]\n",
      " [5.0 3.3 1.0]\n",
      " [5.6 4.2 1.3]\n",
      " [5.7 4.2 1.2]\n",
      " [5.7 4.2 1.3]\n",
      " [6.2 4.3 1.3]\n",
      " [5.1 3.0 1.1]\n",
      " [5.7 4.1 1.3]\n",
      " [6.3 6.0 2.5]\n",
      " [5.8 5.1 1.9]\n",
      " [7.1 5.9 2.1]\n",
      " [6.3 5.6 1.8]\n",
      " [6.5 5.8 2.2]\n",
      " [7.6 6.6 2.1]\n",
      " [4.9 4.5 1.7]\n",
      " [7.3 6.3 1.8]\n",
      " [6.7 5.8 1.8]\n",
      " [7.2 6.1 2.5]\n",
      " [6.5 5.1 2.0]\n",
      " [6.4 5.3 1.9]\n",
      " [6.8 5.5 2.1]\n",
      " [5.7 5.0 2.0]\n",
      " [5.8 5.1 2.4]\n",
      " [6.4 5.3 2.3]\n",
      " [6.5 5.5 1.8]\n",
      " [7.7 6.7 2.2]\n",
      " [7.7 6.9 2.3]\n",
      " [6.0 5.0 1.5]\n",
      " [6.9 5.7 2.3]\n",
      " [5.6 4.9 2.0]\n",
      " [7.7 6.7 2.0]\n",
      " [6.3 4.9 1.8]\n",
      " [6.7 5.7 2.1]\n",
      " [7.2 6.0 1.8]\n",
      " [6.2 4.8 1.8]\n",
      " [6.1 4.9 1.8]\n",
      " [6.4 5.6 2.1]\n",
      " [7.2 5.8 1.6]\n",
      " [7.4 6.1 1.9]\n",
      " [7.9 6.4 2.0]\n",
      " [6.4 5.6 2.2]\n",
      " [6.3 5.1 1.5]\n",
      " [6.1 5.6 1.4]\n",
      " [7.7 6.1 2.3]\n",
      " [6.3 5.6 2.4]\n",
      " [6.4 5.5 1.8]\n",
      " [6.0 4.8 1.8]\n",
      " [6.9 5.4 2.1]\n",
      " [6.7 5.6 2.4]\n",
      " [6.9 5.1 2.3]\n",
      " [5.8 5.1 1.9]\n",
      " [6.8 5.9 2.3]\n",
      " [6.7 5.7 2.5]\n",
      " [6.7 5.2 2.3]\n",
      " [6.3 5.0 1.9]\n",
      " [6.5 5.2 2.0]\n",
      " [6.2 5.4 2.3]\n",
      " [5.9 5.1 1.8]]\n"
     ]
    }
   ],
   "source": [
    "# Best 3 features\n",
    "features = fit.transform(inputs)\n",
    "print(features)"
   ]
  },
  {
   "cell_type": "code",
   "execution_count": 16,
   "metadata": {},
   "outputs": [
    {
     "name": "stdout",
     "output_type": "stream",
     "text": [
      "[[0.22222222 0.06779661 0.04166667]\n",
      " [0.16666667 0.06779661 0.04166667]\n",
      " [0.11111111 0.05084746 0.04166667]\n",
      " [0.08333333 0.08474576 0.04166667]\n",
      " [0.19444444 0.06779661 0.04166667]]\n"
     ]
    }
   ],
   "source": [
    "# Rescale inputs\n",
    "scaler = MinMaxScaler(feature_range=(0, 1))\n",
    "rescaled_inputs = scaler.fit_transform(features)\n",
    "print(rescaled_inputs[0:5, :])"
   ]
  },
  {
   "cell_type": "code",
   "execution_count": 17,
   "metadata": {},
   "outputs": [
    {
     "name": "stdout",
     "output_type": "stream",
     "text": [
      "[[-0.90068117 -1.3412724  -1.31297673]\n",
      " [-1.14301691 -1.3412724  -1.31297673]\n",
      " [-1.38535265 -1.39813811 -1.31297673]\n",
      " [-1.50652052 -1.2844067  -1.31297673]\n",
      " [-1.02184904 -1.3412724  -1.31297673]]\n"
     ]
    }
   ],
   "source": [
    "# Standardize data to mean - 0 and std - 1\n",
    "scaler = StandardScaler().fit(rescaled_inputs)\n",
    "rescaled_inputs = scaler.transform(rescaled_inputs)\n",
    "print(rescaled_inputs[0:5, :])"
   ]
  },
  {
   "cell_type": "code",
   "execution_count": 18,
   "metadata": {},
   "outputs": [],
   "source": [
    "# Split data into train and test sets\n",
    "input_train, input_test, label_train, label_test = train_test_split(rescaled_inputs, labels, test_size=0.33, random_state=7, shuffle=True)"
   ]
  },
  {
   "cell_type": "code",
   "execution_count": 19,
   "metadata": {},
   "outputs": [
    {
     "name": "stdout",
     "output_type": "stream",
     "text": [
      "0.96\n"
     ]
    }
   ],
   "source": [
    "# train the model\n",
    "model = LinearDiscriminantAnalysis()\n",
    "clf = model.fit(input_train, label_train)\n",
    "# Predictions using model\n",
    "predictions = model.predict(input_test)\n",
    "print(accuracy_score(label_test, predictions))"
   ]
  },
  {
   "cell_type": "code",
   "execution_count": 20,
   "metadata": {},
   "outputs": [
    {
     "name": "stdout",
     "output_type": "stream",
     "text": [
      "[[14  0  0]\n",
      " [ 0 17  1]\n",
      " [ 0  1 17]]\n"
     ]
    }
   ],
   "source": [
    "# Confusion Matrix\n",
    "print(confusion_matrix(label_test, predictions))"
   ]
  },
  {
   "cell_type": "code",
   "execution_count": 21,
   "metadata": {},
   "outputs": [
    {
     "name": "stdout",
     "output_type": "stream",
     "text": [
      "                 precision    recall  f1-score   support\n",
      "\n",
      "    Iris-setosa       1.00      1.00      1.00        14\n",
      "Iris-versicolor       0.94      0.94      0.94        18\n",
      " Iris-virginica       0.94      0.94      0.94        18\n",
      "\n",
      "       accuracy                           0.96        50\n",
      "      macro avg       0.96      0.96      0.96        50\n",
      "   weighted avg       0.96      0.96      0.96        50\n",
      "\n"
     ]
    }
   ],
   "source": [
    "#Classification Matrix\n",
    "print(classification_report(label_test, predictions))"
   ]
  }
 ],
 "metadata": {
  "kernelspec": {
   "display_name": "Python 3",
   "language": "python",
   "name": "python3"
  },
  "language_info": {
   "codemirror_mode": {
    "name": "ipython",
    "version": 3
   },
   "file_extension": ".py",
   "mimetype": "text/x-python",
   "name": "python",
   "nbconvert_exporter": "python",
   "pygments_lexer": "ipython3",
   "version": "3.7.6"
  }
 },
 "nbformat": 4,
 "nbformat_minor": 4
}
